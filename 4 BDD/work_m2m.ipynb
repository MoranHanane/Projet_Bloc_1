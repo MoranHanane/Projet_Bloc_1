{
 "cells": [
  {
   "cell_type": "markdown",
   "metadata": {},
   "source": [
    "# Imports"
   ]
  },
  {
   "cell_type": "code",
   "execution_count": 1,
   "metadata": {},
   "outputs": [],
   "source": [
    "import pandas as pd\n",
    "import mysql.connector\n",
    "from mysql.connector import Error\n",
    "import os\n",
    "from dotenv import load_dotenv\n",
    "import numpy as np\n",
    "import functools\n",
    "from difflib import SequenceMatcher"
   ]
  },
  {
   "cell_type": "code",
   "execution_count": 2,
   "metadata": {},
   "outputs": [
    {
     "data": {
      "text/plain": [
       "True"
      ]
     },
     "execution_count": 2,
     "metadata": {},
     "output_type": "execute_result"
    }
   ],
   "source": [
    "load_dotenv()"
   ]
  },
  {
   "cell_type": "code",
   "execution_count": 3,
   "metadata": {},
   "outputs": [],
   "source": [
    "DATABASE_PASSWORD=os.getenv(\"DATABASE_PASSWORD\")\n",
    "MYSQL_USER=os.getenv(\"MYSQL_USER\")\n",
    "DATABASE_NAME=os.getenv(\"DATABASE_NAME\")"
   ]
  },
  {
   "cell_type": "markdown",
   "metadata": {},
   "source": [
    "# Utils"
   ]
  },
  {
   "cell_type": "code",
   "execution_count": 4,
   "metadata": {},
   "outputs": [],
   "source": [
    "def check_connection(database_name=None):\n",
    "    \"\"\"Décorateur qui vérifie si la connexion MySQL est active et peut changer de base de données\n",
    "\n",
    "    Args:\n",
    "        database_name (str, optional): Nom de la base de données à utiliser.\n",
    "    \"\"\"\n",
    "    def decorator(fonction):\n",
    "        @functools.wraps(fonction)\n",
    "        def wrapper(*args, **kwargs):\n",
    "            # Récupération de l'objet connexion\n",
    "            if args:  \n",
    "                connection = args[0]\n",
    "            elif \"connection\" in kwargs:  \n",
    "                connection = kwargs[\"connection\"]\n",
    "            else:\n",
    "                raise ValueError(\"L'argument 'connection' est requis\")\n",
    "\n",
    "            # Vérifier si la connexion est active\n",
    "            if not connection.is_connected():\n",
    "                print(\"🔄 Connexion fermée. Tentative de reconnexion...\")\n",
    "                try:\n",
    "                    connection.reconnect()\n",
    "                    print(\"✅ Connexion rétablie.\")\n",
    "                except mysql.connector.Error as err:\n",
    "                    raise ConnectionError(f\"Impossible de se reconnecter : {err}\")\n",
    "\n",
    "            # Changer la base de données si nécessaire\n",
    "            if database_name and connection.database != database_name:\n",
    "                try:\n",
    "                    print(f\"🔄 Changement de base de données vers {database_name}\")\n",
    "                    connection.database = database_name\n",
    "                except mysql.connector.Error as err:\n",
    "                    raise ConnectionError(f\"Impossible de changer de base de données : {err}\")\n",
    "\n",
    "            return fonction(*args, **kwargs)\n",
    "\n",
    "        return wrapper\n",
    "\n",
    "    return decorator"
   ]
  },
  {
   "cell_type": "code",
   "execution_count": 5,
   "metadata": {},
   "outputs": [],
   "source": [
    "def get_closest_name(target_name, names):\n",
    "    \"\"\"Retourne le nom le plus proche de target_name dans la liste names (via distance de Levenshtein normalisée)\n",
    "\n",
    "    Args:\n",
    "        target_name (str): Le nom à comparer\n",
    "        names (list): La liste des noms à comparer\n",
    "    \n",
    "    Returns:\n",
    "        str: Le nom le plus proche de target_name\n",
    "    \"\"\"\n",
    "    ratios = np.array([SequenceMatcher(None, name, target_name).ratio() for name in names])\n",
    "    match = names[np.argmax(ratios)]\n",
    "\n",
    "    return match"
   ]
  },
  {
   "cell_type": "markdown",
   "metadata": {},
   "source": [
    "# Données en CSV"
   ]
  },
  {
   "cell_type": "code",
   "execution_count": 6,
   "metadata": {},
   "outputs": [
    {
     "data": {
      "application/vnd.microsoft.datawrangler.viewer.v0+json": {
       "columns": [
        {
         "name": "index",
         "rawType": "int64",
         "type": "integer"
        },
        {
         "name": "personnes",
         "rawType": "object",
         "type": "string"
        },
        {
         "name": "caracteres",
         "rawType": "object",
         "type": "string"
        }
       ],
       "conversionMethod": "pd.DataFrame",
       "ref": "6c1ebf1f-a7c8-44d3-9fb3-c98e3cf381c9",
       "rows": [
        [
         "0",
         "John Hammond",
         "vieux, milliardaire"
        ],
        [
         "1",
         "Ellie Satler",
         "jeune, scientifique"
        ],
        [
         "2",
         "Alan Grant",
         "vieux, scientifique"
        ],
        [
         "3",
         "Ian Malcolm",
         "jeune, scientifique"
        ]
       ],
       "shape": {
        "columns": 2,
        "rows": 4
       }
      },
      "text/html": [
       "<div>\n",
       "<style scoped>\n",
       "    .dataframe tbody tr th:only-of-type {\n",
       "        vertical-align: middle;\n",
       "    }\n",
       "\n",
       "    .dataframe tbody tr th {\n",
       "        vertical-align: top;\n",
       "    }\n",
       "\n",
       "    .dataframe thead th {\n",
       "        text-align: right;\n",
       "    }\n",
       "</style>\n",
       "<table border=\"1\" class=\"dataframe\">\n",
       "  <thead>\n",
       "    <tr style=\"text-align: right;\">\n",
       "      <th></th>\n",
       "      <th>personnes</th>\n",
       "      <th>caracteres</th>\n",
       "    </tr>\n",
       "  </thead>\n",
       "  <tbody>\n",
       "    <tr>\n",
       "      <th>0</th>\n",
       "      <td>John Hammond</td>\n",
       "      <td>vieux, milliardaire</td>\n",
       "    </tr>\n",
       "    <tr>\n",
       "      <th>1</th>\n",
       "      <td>Ellie Satler</td>\n",
       "      <td>jeune, scientifique</td>\n",
       "    </tr>\n",
       "    <tr>\n",
       "      <th>2</th>\n",
       "      <td>Alan Grant</td>\n",
       "      <td>vieux, scientifique</td>\n",
       "    </tr>\n",
       "    <tr>\n",
       "      <th>3</th>\n",
       "      <td>Ian Malcolm</td>\n",
       "      <td>jeune, scientifique</td>\n",
       "    </tr>\n",
       "  </tbody>\n",
       "</table>\n",
       "</div>"
      ],
      "text/plain": [
       "      personnes           caracteres\n",
       "0  John Hammond  vieux, milliardaire\n",
       "1  Ellie Satler  jeune, scientifique\n",
       "2    Alan Grant  vieux, scientifique\n",
       "3   Ian Malcolm  jeune, scientifique"
      ]
     },
     "execution_count": 6,
     "metadata": {},
     "output_type": "execute_result"
    }
   ],
   "source": [
    "df = pd.read_csv(\"personnes.csv\")\n",
    "\n",
    "df"
   ]
  },
  {
   "cell_type": "markdown",
   "metadata": {},
   "source": [
    "# Création base de données et tables"
   ]
  },
  {
   "cell_type": "code",
   "execution_count": 7,
   "metadata": {},
   "outputs": [],
   "source": [
    "def create_connection(**kwargs):\n",
    "    \"\"\"Crée une connexion à la base de données MySQL\"\"\"\n",
    "    try:\n",
    "        connection = mysql.connector.connect(\n",
    "            host=kwargs['host'],\n",
    "            user=kwargs['user'],\n",
    "            password=kwargs['password'],\n",
    "            database=kwargs['database']\n",
    "        )\n",
    "        return connection\n",
    "    except Error as e:\n",
    "        print(f\"Erreur lors de la connexion à MySQL: {e}\")\n",
    "        return None"
   ]
  },
  {
   "cell_type": "code",
   "execution_count": 8,
   "metadata": {},
   "outputs": [],
   "source": [
    "params_conn = {\"host\": \"localhost\", \"user\": MYSQL_USER, \"password\": DATABASE_PASSWORD, \"database\": \"\"}"
   ]
  },
  {
   "cell_type": "code",
   "execution_count": 9,
   "metadata": {},
   "outputs": [],
   "source": [
    "conn = create_connection(**params_conn)"
   ]
  },
  {
   "cell_type": "code",
   "execution_count": 10,
   "metadata": {},
   "outputs": [
    {
     "data": {
      "text/plain": [
       "True"
      ]
     },
     "execution_count": 10,
     "metadata": {},
     "output_type": "execute_result"
    }
   ],
   "source": [
    "conn.is_connected()"
   ]
  },
  {
   "cell_type": "code",
   "execution_count": 11,
   "metadata": {},
   "outputs": [],
   "source": [
    "@check_connection()\n",
    "def create_database(connection, db_name):\n",
    "    \"\"\"Crée une base de données\n",
    "\n",
    "    Args:\n",
    "        connection (mysql.connector.connection.MySQLConnection): La connexion MySQL\n",
    "        db_name (str): Le nom de la base de données\n",
    "\n",
    "    Returns:\n",
    "        None\n",
    "    \"\"\"\n",
    "    \n",
    "    cursor = connection.cursor(buffered=True)\n",
    "    try:\n",
    "        cursor.execute(f\"CREATE DATABASE IF NOT EXISTS {db_name}\")\n",
    "        print(f\"Base de données {db_name} créée avec succès\")\n",
    "        connection.database = db_name\n",
    "    except Error as e:\n",
    "        print(f\"Erreur lors de la création de la base de données: {e}\")\n",
    "    finally:\n",
    "        cursor.close()"
   ]
  },
  {
   "cell_type": "code",
   "execution_count": 12,
   "metadata": {},
   "outputs": [],
   "source": [
    "@check_connection(database_name=DATABASE_NAME)\n",
    "def execute_query(connection, query):\n",
    "    \"\"\"Exécute une requête SQL Simple\n",
    "\n",
    "    Args:\n",
    "        connection (mysql.connector.connection.MySQLConnection): La connexion MySQL\n",
    "        query (str): La requête SQL à exécuter\n",
    "\n",
    "    Returns:\n",
    "        None\n",
    "    \n",
    "    \"\"\"\n",
    "    \n",
    "    cursor = connection.cursor(buffered=True)\n",
    "    try:\n",
    "        cursor.execute(query)\n",
    "        connection.commit()\n",
    "        print(\"Requête exécutée avec succès\")\n",
    "    except Error as e:\n",
    "        print(f\"Erreur lors de l'exécution de la requête: {e}\")\n",
    "    finally:\n",
    "        cursor.close()"
   ]
  },
  {
   "cell_type": "code",
   "execution_count": 13,
   "metadata": {},
   "outputs": [
    {
     "name": "stdout",
     "output_type": "stream",
     "text": [
      "Base de données personnes créée avec succès\n"
     ]
    }
   ],
   "source": [
    "create_database(conn, \"personnes\")"
   ]
  },
  {
   "cell_type": "code",
   "execution_count": 14,
   "metadata": {},
   "outputs": [],
   "source": [
    "@check_connection(database_name=DATABASE_NAME)\n",
    "def create_tables(connection):\n",
    "    \"\"\"Crée les tables nécessaires\"\"\"\n",
    "    assert connection.is_connected() , \"La connexion à la base de données est fermée\"\n",
    "\n",
    "    # Table personnes\n",
    "    create_personnes_table = \"\"\"\n",
    "    CREATE TABLE IF NOT EXISTS personnes (\n",
    "        id INT AUTO_INCREMENT PRIMARY KEY,\n",
    "        nom VARCHAR(100) NOT NULL UNIQUE\n",
    "    );\n",
    "    \"\"\"\n",
    "    \n",
    "    # Table caractéristiques\n",
    "    create_caracteristiques_table = \"\"\"\n",
    "    CREATE TABLE IF NOT EXISTS caracteristiques (\n",
    "        id INT AUTO_INCREMENT PRIMARY KEY,\n",
    "        nom VARCHAR(100) NOT NULL UNIQUE\n",
    "    );\n",
    "    \"\"\"\n",
    "    \n",
    "    # Table de jonction\n",
    "    create_junction_table = \"\"\"\n",
    "    CREATE TABLE IF NOT EXISTS personnes_caracteristiques (\n",
    "        personne_id INT,\n",
    "        caracteristique_id INT,\n",
    "        PRIMARY KEY (personne_id, caracteristique_id),\n",
    "        FOREIGN KEY (personne_id) REFERENCES personnes(id),\n",
    "        FOREIGN KEY (caracteristique_id) REFERENCES caracteristiques(id)\n",
    "    );\n",
    "    \"\"\"\n",
    "    \n",
    "    execute_query(connection, create_personnes_table)\n",
    "    execute_query(connection, create_caracteristiques_table)\n",
    "    execute_query(connection, create_junction_table)"
   ]
  },
  {
   "cell_type": "code",
   "execution_count": 15,
   "metadata": {},
   "outputs": [
    {
     "name": "stdout",
     "output_type": "stream",
     "text": [
      "Requête exécutée avec succès\n",
      "Requête exécutée avec succès\n",
      "Requête exécutée avec succès\n"
     ]
    }
   ],
   "source": [
    "create_tables(conn)"
   ]
  },
  {
   "cell_type": "code",
   "execution_count": 16,
   "metadata": {},
   "outputs": [
    {
     "data": {
      "text/plain": [
       "True"
      ]
     },
     "execution_count": 16,
     "metadata": {},
     "output_type": "execute_result"
    }
   ],
   "source": [
    "conn.is_connected()"
   ]
  },
  {
   "cell_type": "markdown",
   "metadata": {},
   "source": [
    "# Insertion des données"
   ]
  },
  {
   "cell_type": "code",
   "execution_count": 17,
   "metadata": {},
   "outputs": [],
   "source": [
    "@check_connection(database_name=DATABASE_NAME)\n",
    "def insert_person(connection, nom):\n",
    "    \"\"\"Insère une personne dans la table personnes\n",
    "\n",
    "    Args:\n",
    "        connection (mysql.connector.connection.MySQLConnection): La connexion MySQL\n",
    "        nom (str): Le nom de la personne\n",
    "\n",
    "    Returns:\n",
    "        L'id de la personne insérée\n",
    "\n",
    "    \"\"\"\n",
    "    \n",
    "    cursor = connection.cursor()\n",
    "    try:\n",
    "        cursor.execute(\"INSERT IGNORE INTO personnes (nom) VALUES (%s)\", (nom,))\n",
    "        connection.commit()\n",
    "        return cursor.lastrowid\n",
    "    except Error as e:\n",
    "        print(f\"Erreur lors de l'insertion de la personne: {e}\")\n",
    "        return None\n",
    "    finally:\n",
    "        cursor.close()"
   ]
  },
  {
   "cell_type": "code",
   "execution_count": 18,
   "metadata": {},
   "outputs": [],
   "source": [
    "@check_connection(database_name=DATABASE_NAME)\n",
    "def get_person_id(connection, nom):\n",
    "    \"\"\"Récupère l'ID d'une personne\n",
    "\n",
    "    Args:\n",
    "        connection (mysql.connector.connection.MySQLConnection): La connexion MySQL\n",
    "        nom (str): Le nom de la personne\n",
    "\n",
    "    Returns:\n",
    "        L'id de la personne\n",
    "    \"\"\"\n",
    "    \n",
    "    cursor = connection.cursor()\n",
    "    try:\n",
    "        cursor.execute(\"SELECT id FROM personnes WHERE nom = %s\", (nom,))\n",
    "        result = cursor.fetchone()\n",
    "        return result[0] if result else None\n",
    "    except Error as e:\n",
    "        print(f\"Erreur lors de la récupération de l'ID de la personne: {e}\")\n",
    "        return None\n",
    "    finally:\n",
    "        cursor.close()"
   ]
  },
  {
   "cell_type": "code",
   "execution_count": 19,
   "metadata": {},
   "outputs": [],
   "source": [
    "@check_connection(database_name=DATABASE_NAME)\n",
    "def insert_caracteristique(connection, nom):\n",
    "    \"\"\"Insère une caractéristique dans la table caractéristiques\n",
    "\n",
    "    Args:\n",
    "        connection (mysql.connector.connection.MySQLConnection): La connexion MySQL\n",
    "        nom (str): Le nom de la caractéristique\n",
    "\n",
    "    Returns:\n",
    "        L'id de la caractéristique insérée\n",
    "    \"\"\"\n",
    "    \n",
    "    cursor = connection.cursor()\n",
    "    try:\n",
    "        cursor.execute(\"INSERT IGNORE INTO caracteristiques (nom) VALUES (%s)\", (nom,))\n",
    "        connection.commit()\n",
    "        return cursor.lastrowid\n",
    "    except Error as e:\n",
    "        print(f\"Erreur lors de l'insertion de la caractéristique: {e}\")\n",
    "        return None\n",
    "    finally:\n",
    "        cursor.close()"
   ]
  },
  {
   "cell_type": "code",
   "execution_count": 20,
   "metadata": {},
   "outputs": [],
   "source": [
    "@check_connection(database_name=DATABASE_NAME)\n",
    "def get_caracteristique_id(connection, nom):\n",
    "    \"\"\"Récupère l'ID d'une caractéristique\n",
    "\n",
    "    Args:\n",
    "        connection (mysql.connector.connection.MySQLConnection): La connexion MySQL\n",
    "        nom (str): Le nom de la caractéristique\n",
    "\n",
    "    Returns:\n",
    "        L'id de la caractéristique\n",
    "    \"\"\"\n",
    "    \n",
    "    cursor = connection.cursor()\n",
    "    try:\n",
    "        cursor.execute(\"SELECT id FROM caracteristiques WHERE nom = %s\", (nom,))\n",
    "        result = cursor.fetchone()\n",
    "        return result[0] if result else None\n",
    "    except Error as e:\n",
    "        print(f\"Erreur lors de la récupération de l'ID de la caractéristique: {e}\")\n",
    "        return None\n",
    "    finally:\n",
    "        cursor.close()"
   ]
  },
  {
   "cell_type": "code",
   "execution_count": 21,
   "metadata": {},
   "outputs": [],
   "source": [
    "@check_connection(database_name=DATABASE_NAME)\n",
    "def link_person_to_caracteristique(connection, personne_id, caracteristique_id):\n",
    "    \"\"\"Lie une personne à une caractéristique\n",
    "    \n",
    "    Args:\n",
    "        connection (mysql.connector.connection.MySQLConnection): La connexion MySQL\n",
    "        personne_id (int): L'id de la personne\n",
    "        caracteristique_id (int): L'id de la caractéristique\n",
    "    \n",
    "    Returns:\n",
    "        None\n",
    "    \"\"\"\n",
    "    \n",
    "    cursor = connection.cursor()\n",
    "    try:\n",
    "        cursor.execute(\n",
    "            \"INSERT IGNORE INTO personnes_caracteristiques (personne_id, caracteristique_id) VALUES (%s, %s)\",\n",
    "            (personne_id, caracteristique_id)\n",
    "        )\n",
    "        connection.commit()\n",
    "    except Error as e:\n",
    "        print(f\"Erreur lors de la liaison personne-caractéristique: {e}\")\n",
    "    finally:\n",
    "        cursor.close()"
   ]
  },
  {
   "cell_type": "code",
   "execution_count": 22,
   "metadata": {},
   "outputs": [
    {
     "data": {
      "text/plain": [
       "True"
      ]
     },
     "execution_count": 22,
     "metadata": {},
     "output_type": "execute_result"
    }
   ],
   "source": [
    "conn.is_connected()"
   ]
  },
  {
   "cell_type": "markdown",
   "metadata": {},
   "source": [
    "## Insertion effective"
   ]
  },
  {
   "cell_type": "code",
   "execution_count": 23,
   "metadata": {},
   "outputs": [],
   "source": [
    "# Parcourir chaque ligne du DataFrame\n",
    "for _, row in df.iterrows():\n",
    "    personne = row['personnes']\n",
    "    \n",
    "    # Insérer la personne\n",
    "    insert_person(conn, personne)\n",
    "    personne_id = get_person_id(conn, personne)\n",
    "    \n",
    "    # Traiter les caractéristiques\n",
    "    caracteristiques_list = row['caracteres'].split(',')\n",
    "    for caracteristique in caracteristiques_list:\n",
    "        caracteristique = caracteristique.strip().strip('\"')\n",
    "        \n",
    "        # Insérer la caractéristique\n",
    "        insert_caracteristique(conn, caracteristique)\n",
    "        caracteristique_id = get_caracteristique_id(conn, caracteristique)\n",
    "        \n",
    "        # Lier la personne à la caractéristique\n",
    "        if personne_id and caracteristique_id:\n",
    "            link_person_to_caracteristique(conn, personne_id, caracteristique_id)"
   ]
  },
  {
   "cell_type": "markdown",
   "metadata": {},
   "source": [
    "# Requêtes de test"
   ]
  },
  {
   "cell_type": "code",
   "execution_count": 24,
   "metadata": {},
   "outputs": [],
   "source": [
    "params_conn = {\"host\": \"localhost\", \"user\": MYSQL_USER, \"password\": DATABASE_PASSWORD, \"database\": DATABASE_NAME}"
   ]
  },
  {
   "cell_type": "code",
   "execution_count": 25,
   "metadata": {},
   "outputs": [],
   "source": [
    "conn = create_connection(**params_conn)"
   ]
  },
  {
   "cell_type": "code",
   "execution_count": 26,
   "metadata": {},
   "outputs": [
    {
     "data": {
      "text/plain": [
       "True"
      ]
     },
     "execution_count": 26,
     "metadata": {},
     "output_type": "execute_result"
    }
   ],
   "source": [
    "conn.is_connected()"
   ]
  },
  {
   "cell_type": "code",
   "execution_count": 27,
   "metadata": {},
   "outputs": [
    {
     "data": {
      "text/plain": [
       "'personnes'"
      ]
     },
     "execution_count": 27,
     "metadata": {},
     "output_type": "execute_result"
    }
   ],
   "source": [
    "conn.database"
   ]
  },
  {
   "cell_type": "markdown",
   "metadata": {},
   "source": [
    "## Requête Read simple (avec Pandas)"
   ]
  },
  {
   "cell_type": "code",
   "execution_count": 28,
   "metadata": {},
   "outputs": [],
   "source": [
    "@check_connection(database_name=DATABASE_NAME)\n",
    "def read_sql_(connection, query):\n",
    "    \"\"\"Exécute une requête SELECT et retourne les résultats sous forme de DataFrame Pandas\n",
    "\n",
    "    Args:\n",
    "        connection (mysql.connector.connection.MySQLConnection): La connexion MySQL\n",
    "        query (str): La requête SELECT\n",
    "\n",
    "    Returns:\n",
    "        pd.DataFrame: Les résultats de la requête\n",
    "    \"\"\"\n",
    "    \n",
    "    return pd.read_sql(query, connection)"
   ]
  },
  {
   "cell_type": "code",
   "execution_count": 29,
   "metadata": {},
   "outputs": [
    {
     "data": {
      "text/plain": [
       "True"
      ]
     },
     "execution_count": 29,
     "metadata": {},
     "output_type": "execute_result"
    }
   ],
   "source": [
    "conn.is_connected()"
   ]
  },
  {
   "cell_type": "code",
   "execution_count": 30,
   "metadata": {},
   "outputs": [],
   "source": [
    "conn.close()"
   ]
  },
  {
   "cell_type": "code",
   "execution_count": 31,
   "metadata": {},
   "outputs": [
    {
     "data": {
      "text/plain": [
       "False"
      ]
     },
     "execution_count": 31,
     "metadata": {},
     "output_type": "execute_result"
    }
   ],
   "source": [
    "conn.is_connected()"
   ]
  },
  {
   "cell_type": "code",
   "execution_count": 32,
   "metadata": {},
   "outputs": [
    {
     "name": "stdout",
     "output_type": "stream",
     "text": [
      "🔄 Connexion fermée. Tentative de reconnexion...\n",
      "✅ Connexion rétablie.\n"
     ]
    },
    {
     "name": "stderr",
     "output_type": "stream",
     "text": [
      "/var/folders/fj/crd4vf5s1h74s1h2w_9m3x6r0000gn/T/ipykernel_47512/908817662.py:13: UserWarning: pandas only supports SQLAlchemy connectable (engine/connection) or database string URI or sqlite3 DBAPI2 connection. Other DBAPI2 objects are not tested. Please consider using SQLAlchemy.\n",
      "  return pd.read_sql(query, connection)\n"
     ]
    }
   ],
   "source": [
    "df = read_sql_(conn, \"SELECT * FROM personnes\")"
   ]
  },
  {
   "cell_type": "code",
   "execution_count": 33,
   "metadata": {},
   "outputs": [
    {
     "data": {
      "application/vnd.microsoft.datawrangler.viewer.v0+json": {
       "columns": [
        {
         "name": "index",
         "rawType": "int64",
         "type": "integer"
        },
        {
         "name": "id",
         "rawType": "int64",
         "type": "integer"
        },
        {
         "name": "nom",
         "rawType": "object",
         "type": "string"
        }
       ],
       "conversionMethod": "pd.DataFrame",
       "ref": "b82c615c-2b19-4059-815f-d4473ab84350",
       "rows": [
        [
         "0",
         "3",
         "Alan Grant"
        ],
        [
         "1",
         "2",
         "Ellie Satler"
        ],
        [
         "2",
         "4",
         "Ian Malcolm"
        ],
        [
         "3",
         "1",
         "John Hammond"
        ]
       ],
       "shape": {
        "columns": 2,
        "rows": 4
       }
      },
      "text/html": [
       "<div>\n",
       "<style scoped>\n",
       "    .dataframe tbody tr th:only-of-type {\n",
       "        vertical-align: middle;\n",
       "    }\n",
       "\n",
       "    .dataframe tbody tr th {\n",
       "        vertical-align: top;\n",
       "    }\n",
       "\n",
       "    .dataframe thead th {\n",
       "        text-align: right;\n",
       "    }\n",
       "</style>\n",
       "<table border=\"1\" class=\"dataframe\">\n",
       "  <thead>\n",
       "    <tr style=\"text-align: right;\">\n",
       "      <th></th>\n",
       "      <th>id</th>\n",
       "      <th>nom</th>\n",
       "    </tr>\n",
       "  </thead>\n",
       "  <tbody>\n",
       "    <tr>\n",
       "      <th>0</th>\n",
       "      <td>3</td>\n",
       "      <td>Alan Grant</td>\n",
       "    </tr>\n",
       "    <tr>\n",
       "      <th>1</th>\n",
       "      <td>2</td>\n",
       "      <td>Ellie Satler</td>\n",
       "    </tr>\n",
       "    <tr>\n",
       "      <th>2</th>\n",
       "      <td>4</td>\n",
       "      <td>Ian Malcolm</td>\n",
       "    </tr>\n",
       "    <tr>\n",
       "      <th>3</th>\n",
       "      <td>1</td>\n",
       "      <td>John Hammond</td>\n",
       "    </tr>\n",
       "  </tbody>\n",
       "</table>\n",
       "</div>"
      ],
      "text/plain": [
       "   id           nom\n",
       "0   3    Alan Grant\n",
       "1   2  Ellie Satler\n",
       "2   4   Ian Malcolm\n",
       "3   1  John Hammond"
      ]
     },
     "execution_count": 33,
     "metadata": {},
     "output_type": "execute_result"
    }
   ],
   "source": [
    "df"
   ]
  },
  {
   "cell_type": "markdown",
   "metadata": {},
   "source": [
    "## Récupérer les personnes ayant une caractéristique - Read"
   ]
  },
  {
   "cell_type": "code",
   "execution_count": 34,
   "metadata": {},
   "outputs": [],
   "source": [
    "@check_connection(database_name=DATABASE_NAME)\n",
    "def trouver_personnes_par_caracteristique(connection, caracteristique):\n",
    "    \"\"\"\n",
    "    Récupère toutes les personnes ayant une caractéristique spécifique\n",
    "    \n",
    "    Args:\n",
    "        connection: La connexion à la base de données\n",
    "        caracteristique: Le nom de la caractéristique recherchée\n",
    "        \n",
    "    Returns:\n",
    "        Une liste des noms de personnes ayant cette caractéristique\n",
    "    \"\"\"\n",
    "    cursor = connection.cursor()\n",
    "    try:\n",
    "        query = \"\"\"\n",
    "        SELECT personnes.nom\n",
    "        FROM personnes\n",
    "        JOIN personnes_caracteristiques ON personnes.id = personnes_caracteristiques.personne_id\n",
    "        JOIN caracteristiques ON personnes_caracteristiques.caracteristique_id = caracteristiques.id\n",
    "        WHERE caracteristiques.nom = %s\n",
    "        \"\"\"\n",
    "        cursor.execute(query, (caracteristique,))\n",
    "        resultats = cursor.fetchall()\n",
    "        resultats = [resultat[0] for resultat in resultats]\n",
    "\n",
    "        if len(resultats) == 0:\n",
    "            query=\"SELECT nom FROM caracteristiques WHERE nom=%s\"\n",
    "            cursor.execute(query, (caracteristique,))\n",
    "            resultat_caracteristiques = cursor.fetchall()\n",
    "            if not resultat_caracteristiques:\n",
    "                print(\"La caractéristique n'a pas été trouvée...\")\n",
    "                query=\"SELECT nom FROM caracteristiques\"\n",
    "                cursor.execute(query)\n",
    "                toutes_caracteristiques = cursor.fetchall()\n",
    "\n",
    "                caracteristique_la_plus_proche = get_closest_name(caracteristique, [caracteristique[0] for caracteristique in toutes_caracteristiques])\n",
    "                print(\"La caractéristique la plus proche est : \", caracteristique_la_plus_proche)\n",
    "                return False\n",
    "            else:\n",
    "                print(f\"Aucune personne trouvée pour la caractéristique {caracteristique}\")\n",
    "                return []\n",
    "\n",
    "\n",
    "        return resultats\n",
    "    except Error as e:\n",
    "        print(f\"Erreur lors de la recherche des personnes par caractéristique: {e}\")\n",
    "        return []\n",
    "    finally:\n",
    "        cursor.close()"
   ]
  },
  {
   "cell_type": "code",
   "execution_count": 37,
   "metadata": {},
   "outputs": [
    {
     "data": {
      "text/plain": [
       "['John Hammond', 'Alan Grant']"
      ]
     },
     "execution_count": 37,
     "metadata": {},
     "output_type": "execute_result"
    }
   ],
   "source": [
    "trouver_personnes_par_caracteristique(conn, \"vieux\")"
   ]
  },
  {
   "cell_type": "markdown",
   "metadata": {},
   "source": [
    "## Récupérer les caractéristiques d'une personne - Read"
   ]
  },
  {
   "cell_type": "code",
   "execution_count": 35,
   "metadata": {},
   "outputs": [],
   "source": [
    "@check_connection(database_name=DATABASE_NAME)\n",
    "def trouver_caracteristiques_par_personne(connection, nom_personne):\n",
    "    \"\"\"\n",
    "    Récupère toutes les caractéristiques d'une personne spécifique\n",
    "    \n",
    "    Args:\n",
    "        connection: La connexion à la base de données\n",
    "        nom_personne:str Le nom de la personne recherchée\n",
    "        \n",
    "    Returns:\n",
    "        Une liste des caractéristiques de cette personne\n",
    "    \"\"\"\n",
    "    cursor = connection.cursor()\n",
    "    try:\n",
    "        query = \"\"\"\n",
    "        SELECT caracteristiques.nom \n",
    "        FROM caracteristiques\n",
    "        JOIN personnes_caracteristiques ON caracteristiques.id = personnes_caracteristiques.caracteristique_id\n",
    "        JOIN personnes ON personnes_caracteristiques.personne_id = personnes.id\n",
    "        WHERE personnes.nom = %s\n",
    "        \"\"\"\n",
    "        cursor.execute(query, (nom_personne,))\n",
    "        resultats = cursor.fetchall()\n",
    "        resultats = [resultat[0] for resultat in resultats]\n",
    "\n",
    "        if len(resultats) == 0:\n",
    "            query=\"SELECT nom FROM personnes WHERE nom=%s\"\n",
    "            cursor.execute(query, (nom_personne,))\n",
    "            resultat_personne = cursor.fetchall()\n",
    "            if not resultat_personne:\n",
    "                print(\"La personne n'a pas été trouvée...\")\n",
    "                query=\"SELECT nom FROM personnes\"\n",
    "                cursor.execute(query)\n",
    "                toutes_personnes = cursor.fetchall()\n",
    "\n",
    "                personne_la_plus_proche = get_closest_name(nom_personne, [personne[0] for personne in toutes_personnes])\n",
    "                print(\"La personne la plus proche est : \", personne_la_plus_proche)\n",
    "                return False\n",
    "            else:\n",
    "                print(f\"Aucune caractéristique trouvée pour {nom_personne}\")\n",
    "                return []\n",
    "            \n",
    "        return resultats\n",
    "    except Error as e:\n",
    "        print(f\"Erreur lors de la recherche des caractéristiques par personne: {e}\")\n",
    "        return []\n",
    "    finally:\n",
    "        cursor.close()"
   ]
  },
  {
   "cell_type": "code",
   "execution_count": 36,
   "metadata": {},
   "outputs": [
    {
     "name": "stdout",
     "output_type": "stream",
     "text": [
      "La personne n'a pas été trouvée...\n",
      "La personne la plus proche est :  Ian Malcolm\n"
     ]
    },
    {
     "data": {
      "text/plain": [
       "False"
      ]
     },
     "execution_count": 36,
     "metadata": {},
     "output_type": "execute_result"
    }
   ],
   "source": [
    "trouver_caracteristiques_par_personne(conn, \"Ian Malcol\")"
   ]
  },
  {
   "cell_type": "markdown",
   "metadata": {},
   "source": [
    "## Rajouter une personne avec une caractéristique - Create"
   ]
  },
  {
   "cell_type": "code",
   "execution_count": 38,
   "metadata": {},
   "outputs": [],
   "source": [
    "@check_connection(database_name=DATABASE_NAME)\n",
    "def ajouter_personne_avec_caracteristiques(connection, nom_personne, liste_caracteristiques):\n",
    "    \"\"\"\n",
    "    Ajoute une nouvelle personne et l'associe à des caractéristiques (nouvelles ou existantes)\n",
    "    \n",
    "    Args:\n",
    "        connection: La connexion à la base de données\n",
    "        nom_personne: Le nom de la nouvelle personne à ajouter\n",
    "        liste_caracteristiques: Liste des caractéristiques à associer à la personne\n",
    "        \n",
    "    Returns:\n",
    "        bool: True si l'opération a réussi, False sinon\n",
    "    \"\"\"\n",
    "    try:\n",
    "        # Sélectionner la base de données si ce n'est pas déjà fait\n",
    "        if not connection.database:\n",
    "            connection.database = \"personnes\"\n",
    "        \n",
    "        # Ajouter la nouvelle personne\n",
    "        insert_person(connection, nom_personne)\n",
    "        personne_id = get_person_id(connection, nom_personne)\n",
    "        \n",
    "        if not personne_id:\n",
    "            print(f\"Erreur lors de l'ajout de la personne '{nom_personne}'.\")\n",
    "            return False\n",
    "        \n",
    "        # Pour chaque caractéristique\n",
    "        for caracteristique in liste_caracteristiques:\n",
    "            # Vérifier si la caractéristique existe déjà\n",
    "            caracteristique_id = get_caracteristique_id(connection, caracteristique)\n",
    "            \n",
    "            # Si elle n'existe pas, l'ajouter\n",
    "            if not caracteristique_id:\n",
    "                insert_caracteristique(connection, caracteristique)\n",
    "                caracteristique_id = get_caracteristique_id(connection, caracteristique)\n",
    "                if not caracteristique_id:\n",
    "                    print(f\"Erreur lors de l'ajout de la caractéristique '{caracteristique}'.\")\n",
    "                    continue\n",
    "            \n",
    "            # Créer le lien entre la personne et la caractéristique\n",
    "            link_person_to_caracteristique(connection, personne_id, caracteristique_id)\n",
    "        \n",
    "        print(f\"La personne '{nom_personne}' a été ajoutée avec ses caractéristiques avec succès!\")\n",
    "        return True\n",
    "        \n",
    "    except Error as e:\n",
    "        print(f\"Erreur lors de l'ajout de la personne avec caractéristiques: {e}\")\n",
    "        return False"
   ]
  },
  {
   "cell_type": "code",
   "execution_count": 39,
   "metadata": {},
   "outputs": [
    {
     "data": {
      "text/plain": [
       "True"
      ]
     },
     "execution_count": 39,
     "metadata": {},
     "output_type": "execute_result"
    }
   ],
   "source": [
    "conn.is_connected()"
   ]
  },
  {
   "cell_type": "code",
   "execution_count": 40,
   "metadata": {},
   "outputs": [
    {
     "name": "stdout",
     "output_type": "stream",
     "text": [
      "La personne 'Donald Gennaro' a été ajoutée avec ses caractéristiques avec succès!\n"
     ]
    },
    {
     "data": {
      "text/plain": [
       "True"
      ]
     },
     "execution_count": 40,
     "metadata": {},
     "output_type": "execute_result"
    }
   ],
   "source": [
    "ajouter_personne_avec_caracteristiques(conn, \"Donald Gennaro\", [\"vieux\", \"avocat\"])"
   ]
  },
  {
   "cell_type": "markdown",
   "metadata": {},
   "source": [
    "## Modifier les caractéristiques d'une personne - Update"
   ]
  },
  {
   "cell_type": "code",
   "execution_count": 41,
   "metadata": {},
   "outputs": [],
   "source": [
    "@check_connection(database_name=DATABASE_NAME)\n",
    "def modifier_caracteristiques_personne(connection, nom_personne, ajouter_caracteristiques=None, supprimer_caracteristiques=None):\n",
    "    \"\"\"\n",
    "    Modifie les caractéristiques d'une personne existante dans la base de données\n",
    "    \n",
    "    Args:\n",
    "        connection: La connexion à la base de données\n",
    "        nom_personne: Le nom de la personne à modifier\n",
    "        ajouter_caracteristiques: Liste des caractéristiques à ajouter (None si aucune)\n",
    "        supprimer_caracteristiques: Liste des caractéristiques à supprimer (None si aucune)\n",
    "        \n",
    "    Returns:\n",
    "        bool: True si l'opération a réussi, False sinon\n",
    "    \"\"\"\n",
    "    try:\n",
    "        # Sélectionner la base de données si ce n'est pas déjà fait\n",
    "        if not connection.database:\n",
    "            connection.database = \"personnes\"\n",
    "        \n",
    "        # Vérifier si la personne existe\n",
    "        personne_id = get_person_id(connection, nom_personne)\n",
    "        if not personne_id:\n",
    "            print(f\"La personne '{nom_personne}' n'existe pas dans la base de données.\")\n",
    "            return False\n",
    "        \n",
    "        # Supprimer des caractéristiques si demandé avec le paramètre booléen\n",
    "        if supprimer_caracteristiques:\n",
    "            for caracteristique in supprimer_caracteristiques:\n",
    "                caracteristique_id = get_caracteristique_id(connection, caracteristique)\n",
    "                if caracteristique_id:\n",
    "                    # Supprimer le lien entre la personne et cette caractéristique\n",
    "                    cursor = connection.cursor()\n",
    "                    try:\n",
    "                        delete_query = \"\"\"\n",
    "                        DELETE FROM personnes_caracteristiques \n",
    "                        WHERE personne_id = %s AND caracteristique_id = %s\n",
    "                        \"\"\"\n",
    "                        cursor.execute(delete_query, (personne_id, caracteristique_id))\n",
    "                        connection.commit()\n",
    "                        print(f\"Caractéristique '{caracteristique}' supprimée pour '{nom_personne}'\")\n",
    "                    except Error as e:\n",
    "                        print(f\"Erreur lors de la suppression de la caractéristique: {e}\")\n",
    "                    finally:\n",
    "                        cursor.close()\n",
    "                else:\n",
    "                    print(f\"Caractéristique '{caracteristique}' non trouvée, rien à supprimer.\")\n",
    "        \n",
    "        # Ajouter des caractéristiques si demandé avec le paramètre booléen\n",
    "        if ajouter_caracteristiques:\n",
    "            for caracteristique in ajouter_caracteristiques:\n",
    "                # Vérifier si la caractéristique existe déjà\n",
    "                caracteristique_id = get_caracteristique_id(connection, caracteristique)\n",
    "                \n",
    "                # Si elle n'existe pas, l'ajouter\n",
    "                if not caracteristique_id:\n",
    "                    insert_caracteristique(connection, caracteristique)\n",
    "                    caracteristique_id = get_caracteristique_id(connection, caracteristique)\n",
    "                    if not caracteristique_id:\n",
    "                        print(f\"Erreur lors de l'ajout de la caractéristique '{caracteristique}'.\")\n",
    "                        continue\n",
    "                \n",
    "                # Vérifier si le lien existe déjà\n",
    "                cursor = connection.cursor()\n",
    "                try:\n",
    "                    check_query = \"\"\"\n",
    "                    SELECT 1 FROM personnes_caracteristiques \n",
    "                    WHERE personne_id = %s AND caracteristique_id = %s\n",
    "                    \"\"\"\n",
    "                    cursor.execute(check_query, (personne_id, caracteristique_id))\n",
    "                    if cursor.fetchone():\n",
    "                        print(f\"La caractéristique '{caracteristique}' est déjà associée à '{nom_personne}'\")\n",
    "                    else:\n",
    "                        # Créer le lien entre la personne et la caractéristique\n",
    "                        link_person_to_caracteristique(connection, personne_id, caracteristique_id)\n",
    "                        print(f\"Caractéristique '{caracteristique}' ajoutée pour '{nom_personne}'\")\n",
    "                except Error as e:\n",
    "                    print(f\"Erreur lors de la vérification du lien: {e}\")\n",
    "                finally:\n",
    "                    cursor.close()\n",
    "        \n",
    "        print(f\"Modification des caractéristiques pour '{nom_personne}' terminée.\")\n",
    "        return True\n",
    "        \n",
    "    except Error as e:\n",
    "        print(f\"Erreur lors de la modification des caractéristiques: {e}\")\n",
    "        return False"
   ]
  },
  {
   "cell_type": "code",
   "execution_count": 43,
   "metadata": {},
   "outputs": [
    {
     "name": "stdout",
     "output_type": "stream",
     "text": [
      "Caractéristique 'vieux' supprimée pour 'Donald Gennaro'\n",
      "Caractéristique 'peureux' ajoutée pour 'Donald Gennaro'\n",
      "Modification des caractéristiques pour 'Donald Gennaro' terminée.\n"
     ]
    },
    {
     "data": {
      "text/plain": [
       "True"
      ]
     },
     "execution_count": 43,
     "metadata": {},
     "output_type": "execute_result"
    }
   ],
   "source": [
    "modifier_caracteristiques_personne(conn, \"Donald Gennaro\", ajouter_caracteristiques=[\"peureux\"], supprimer_caracteristiques=[\"vieux\"])"
   ]
  },
  {
   "cell_type": "code",
   "execution_count": 42,
   "metadata": {},
   "outputs": [
    {
     "data": {
      "text/plain": [
       "True"
      ]
     },
     "execution_count": 42,
     "metadata": {},
     "output_type": "execute_result"
    }
   ],
   "source": [
    "conn.is_connected()"
   ]
  }
 ],
 "metadata": {
  "kernelspec": {
   "display_name": "k3p",
   "language": "python",
   "name": "python3"
  },
  "language_info": {
   "codemirror_mode": {
    "name": "ipython",
    "version": 3
   },
   "file_extension": ".py",
   "mimetype": "text/x-python",
   "name": "python",
   "nbconvert_exporter": "python",
   "pygments_lexer": "ipython3",
   "version": "3.11.8"
  }
 },
 "nbformat": 4,
 "nbformat_minor": 2
}
